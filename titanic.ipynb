{
 "cells": [
  {
   "cell_type": "code",
   "execution_count": 2,
   "id": "a816e33e",
   "metadata": {},
   "outputs": [],
   "source": [
    "import pandas as pd"
   ]
  },
  {
   "cell_type": "code",
   "execution_count": 18,
   "id": "412e3548",
   "metadata": {},
   "outputs": [],
   "source": [
    "df = df= pd.read_csv('https://raw.githubusercontent.com/bvalgard/data/main/titanic.csv', na_values='?')"
   ]
  },
  {
   "cell_type": "code",
   "execution_count": 14,
   "id": "f481f8ed",
   "metadata": {},
   "outputs": [],
   "source": [
    "df = df.loc[:,['survived','sex']]"
   ]
  },
  {
   "cell_type": "code",
   "execution_count": 21,
   "id": "b8756378",
   "metadata": {},
   "outputs": [
    {
     "data": {
      "text/plain": [
       "sex\n",
       "female    339\n",
       "male      161\n",
       "Name: survived, dtype: int64"
      ]
     },
     "execution_count": 21,
     "metadata": {},
     "output_type": "execute_result"
    }
   ],
   "source": [
    "df.groupby('sex')[\"survived\"].sum()"
   ]
  },
  {
   "cell_type": "code",
   "execution_count": 17,
   "id": "5b179041",
   "metadata": {},
   "outputs": [
    {
     "data": {
      "text/plain": [
       "<pandas.core.groupby.generic.DataFrameGroupBy object at 0x7f1ef4162d70>"
      ]
     },
     "execution_count": 17,
     "metadata": {},
     "output_type": "execute_result"
    }
   ],
   "source": [
    "df.groupby(df['sex'])"
   ]
  },
  {
   "cell_type": "code",
   "execution_count": null,
   "id": "cb12528c",
   "metadata": {},
   "outputs": [],
   "source": [
    "Pandas Practice Problem\n",
    "\n",
    "Problem Statement: Analyzing Customer Purchase Behavior\n",
    "\n",
    "You have been provided with a dataset containing information about customer transactions from an online retailer. The data includes information such as customer ID, product ID, purchase date, price, and more. The goal is to use Pandas to preprocess, clean, and analyze the data to gain insights into customer purchase behavior and product popularity.\n",
    "\n",
    "The specific tasks you might undertake could include:\n",
    "\n",
    "Cleaning and preprocessing the data to remove duplicates, missing values, and other errors.\n",
    "\n",
    "Merging and aggregating the data to create summary tables and metrics, such as total sales by product or customer.\n",
    "\n",
    "Analyzing the data to identify trends and patterns in customer purchase behavior, such as which products are frequently purchased together, which products are popular at different times of year, or which customers are most valuable to the business.\n",
    "\n",
    "Creating visualizations to help communicate the results of your analysis, such as scatter plots, bar charts, or heat maps.\n",
    "\n",
    "This problem statement is a practical and relevant task that requires expertise in data manipulation, cleaning, and analysis using Pandas. It provides a good opportunity to practice your skills in handling complex datasets and exploring them using Pandas. Additionally, the problem is relevant and practical, making it a great task for an advanced data science learner who is interested in working with Pandas.\n",
    "\n",
    "\n",
    "\n",
    "There are various datasets that you could use for the problem statement I suggested. Here are a few possible sources:\n",
    "\n",
    "The Online Retail Data Set: This dataset contains transactional data of a UK-based online retailer from 2010 to 2011. You can download it from the UCI Machine Learning Repository at https://archive.ics.uci.edu/ml/datasets/Online+Retail+II.\n",
    "\n",
    "Instacart Market Basket Analysis: This dataset contains anonymized data of customer orders from the online grocery store Instacart. It includes information on orders, products, and customers. You can download it from Kaggle at https://www.kaggle.com/c/instacart-market-basket-analysis/data.\n",
    "\n",
    "Amazon Customer Reviews: This dataset contains reviews and ratings of products sold on Amazon. It includes information such as product ID, customer ID, review text, and rating. You can download it from the Amazon Customer Reviews Dataset page at https://s3.amazonaws.com/amazon-reviews-pds/readme.html.\n",
    "\n",
    "Note that these datasets may require some preprocessing before you can analyze them using Pandas. You may also want to explore additional datasets to find one that best suits your interests and expertise."
   ]
  }
 ],
 "metadata": {
  "kernelspec": {
   "display_name": "Python 3 (ipykernel)",
   "language": "python",
   "name": "python3"
  },
  "language_info": {
   "codemirror_mode": {
    "name": "ipython",
    "version": 3
   },
   "file_extension": ".py",
   "mimetype": "text/x-python",
   "name": "python",
   "nbconvert_exporter": "python",
   "pygments_lexer": "ipython3",
   "version": "3.10.6"
  }
 },
 "nbformat": 4,
 "nbformat_minor": 5
}
